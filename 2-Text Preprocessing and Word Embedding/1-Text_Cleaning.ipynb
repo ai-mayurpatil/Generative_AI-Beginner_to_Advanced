{
 "cells": [
  {
   "cell_type": "code",
   "execution_count": 2,
   "metadata": {},
   "outputs": [],
   "source": [
    "import string\n",
    "\n",
    "# Example filtered tokens\n",
    "filtered_tokens = ['Hello!', 'This', 'is', 'a', 'test.', 'Let\\'s', 'remove', 'punctuation!']\n",
    "\n"
   ]
  },
  {
   "cell_type": "code",
   "execution_count": 3,
   "metadata": {},
   "outputs": [],
   "source": [
    "# Remove punctuation from each word\n",
    "punctuation_removed = [''.join(char for char in word if char not in string.punctuation) for word in filtered_tokens]"
   ]
  },
  {
   "cell_type": "code",
   "execution_count": 4,
   "metadata": {},
   "outputs": [
    {
     "name": "stdout",
     "output_type": "stream",
     "text": [
      "Without Punctuation: ['Hello', 'This', 'is', 'a', 'test', 'Lets', 'remove', 'punctuation']\n"
     ]
    }
   ],
   "source": [
    "# Remove empty strings if any word consisted only of punctuation\n",
    "punctuation_removed = [word for word in punctuation_removed if word]\n",
    "print(\"Without Punctuation:\", punctuation_removed)"
   ]
  },
  {
   "cell_type": "markdown",
   "metadata": {},
   "source": [
    "### Removing all irrelevant characters (Numbers and Punctuation) \n",
    "Remove numbers if they are not relevant to your analyses 09. And punctuation also will be \n",
    "remove. Punctuation is basically the set of symbols !ˮ#$%&ʼ()*+,-./:;?\\]^_`|"
   ]
  },
  {
   "cell_type": "code",
   "execution_count": 5,
   "metadata": {},
   "outputs": [],
   "source": [
    "import re\n",
    "\n",
    "def clean_text(text):\n",
    " # Remove all characters except alphabets and spaces\n",
    " cleaned_text = re.sub(r'[^A-Za-z\\s]', '', text)\n",
    " return cleaned_text"
   ]
  },
  {
   "cell_type": "code",
   "execution_count": 6,
   "metadata": {},
   "outputs": [
    {
     "name": "stdout",
     "output_type": "stream",
     "text": [
      "Heres a paragraph with numbers  and special characters Like \n"
     ]
    }
   ],
   "source": [
    "paragraph = \"Here's a paragraph with numbers 123 and special characters! Like @#$%.\"\n",
    "cleaned_paragraph = clean_text(paragraph)\n",
    "print(cleaned_paragraph)"
   ]
  },
  {
   "cell_type": "markdown",
   "metadata": {},
   "source": [
    "### 3. Whitespace Removal\n",
    " Why Itʼs Important:\n",
    " Extra spaces and tabs can create inconsistencies in text processing. Removing them \n",
    "ensures that the text is clean and uniform, preventing potential errors in analysis."
   ]
  },
  {
   "cell_type": "code",
   "execution_count": 7,
   "metadata": {},
   "outputs": [
    {
     "name": "stdout",
     "output_type": "stream",
     "text": [
      "Cleaned Text: This is an example sentence with extra spaces.\n"
     ]
    }
   ],
   "source": [
    "text_with_whitespace = \"  This   is   an example     sentence with    extra spaces.  \"\n",
    "\n",
    " # Remove extra whitespace\n",
    "cleaned_text = \" \".join(text_with_whitespace.split())\n",
    "print(\"Cleaned Text:\", cleaned_text)"
   ]
  },
  {
   "cell_type": "code",
   "execution_count": null,
   "metadata": {},
   "outputs": [],
   "source": []
  }
 ],
 "metadata": {
  "kernelspec": {
   "display_name": "nlp-hate",
   "language": "python",
   "name": "python3"
  },
  "language_info": {
   "codemirror_mode": {
    "name": "ipython",
    "version": 3
   },
   "file_extension": ".py",
   "mimetype": "text/x-python",
   "name": "python",
   "nbconvert_exporter": "python",
   "pygments_lexer": "ipython3",
   "version": "3.11.9"
  }
 },
 "nbformat": 4,
 "nbformat_minor": 2
}
